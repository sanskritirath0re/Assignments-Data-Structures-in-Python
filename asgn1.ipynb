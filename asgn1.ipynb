{
 "cells": [
  {
   "cell_type": "code",
   "execution_count": 5,
   "id": "2f05dc5e-51af-4c61-bd34-988506b5f271",
   "metadata": {},
   "outputs": [
    {
     "name": "stdin",
     "output_type": "stream",
     "text": [
      "enter a string: pwskills\n"
     ]
    },
    {
     "data": {
      "text/plain": [
       "'sllikswp'"
      ]
     },
     "execution_count": 5,
     "metadata": {},
     "output_type": "execute_result"
    }
   ],
   "source": [
    "#1 write a code to reverse the sring\n",
    "s=input(\"enter a string:\")\n",
    "s[::-1]"
   ]
  },
  {
   "cell_type": "code",
   "execution_count": 15,
   "id": "3693b56a-d9ef-41d4-97df-2a3ca9e2d515",
   "metadata": {},
   "outputs": [
    {
     "name": "stdin",
     "output_type": "stream",
     "text": [
      "enter a string pwskills\n"
     ]
    },
    {
     "name": "stdout",
     "output_type": "stream",
     "text": [
      "1\n"
     ]
    }
   ],
   "source": [
    "#2 Write a code to count the number of vowels in a string.\n",
    "s=input(\"enter a string:\")\n",
    "count=0\n",
    "for char in s:\n",
    "    if char in \"aeiouAEIOU\":\n",
    "        count=count+1\n",
    "print(count) "
   ]
  },
  {
   "cell_type": "code",
   "execution_count": 14,
   "id": "7e9c07bf-b62a-4274-8269-9a55b95eeea3",
   "metadata": {},
   "outputs": [
    {
     "name": "stdin",
     "output_type": "stream",
     "text": [
      "enter a string abba\n"
     ]
    },
    {
     "name": "stdout",
     "output_type": "stream",
     "text": [
      "palindrome\n"
     ]
    }
   ],
   "source": [
    "#3 Write a code to check if a given string is a palindrome or not.\n",
    "p=input(\"enter a string:\")\n",
    "if p[::-1]==p:\n",
    "    print(\"palindrome\")\n",
    "else:\n",
    "    print(\"not palindrome\")"
   ]
  },
  {
   "cell_type": "code",
   "execution_count": 27,
   "id": "a6ac2cbd-d085-4344-b7bf-dee97a2b491d",
   "metadata": {},
   "outputs": [
    {
     "name": "stdin",
     "output_type": "stream",
     "text": [
      "Enter the first string:  sans123\n",
      "Enter the second string:  s123ans\n"
     ]
    },
    {
     "name": "stdout",
     "output_type": "stream",
     "text": [
      "The strings are anagrams\n"
     ]
    }
   ],
   "source": [
    "#4 Write a code to check if two given strings are anagrams of each other.\n",
    "str1 = input(\"Enter the first string: \")\n",
    "str2 = input(\"Enter the second string: \")\n",
    "str1 = ''.join(char.lower() for char in str1 if char.isalnum())\n",
    "str2 = ''.join(char.lower() for char in str2 if char.isalnum())\n",
    "sorted_str1 = sorted(str1)\n",
    "sorted_str2 = sorted(str2)\n",
    "if sorted_str1 == sorted_str2:\n",
    "    print(\"The strings are anagrams\")\n",
    "else:\n",
    "    print(\"The strings are not anagrams\")"
   ]
  },
  {
   "cell_type": "code",
   "execution_count": 9,
   "id": "003d33d0-b661-4335-8bab-15053feea608",
   "metadata": {},
   "outputs": [
    {
     "name": "stdin",
     "output_type": "stream",
     "text": [
      "Enter the substring:  hello world hello\n",
      "Enter the string:  hello\n"
     ]
    },
    {
     "name": "stdout",
     "output_type": "stream",
     "text": [
      "[0, 12]\n"
     ]
    }
   ],
   "source": [
    "#5 Write a code to find all the occurences of a given substring with another string.\n",
    "s = input(\"Enter the substring: \")\n",
    "s1 = input(\"Enter the string: \")\n",
    "occur = []\n",
    "for i in range(len(s) - len(s1) + 1):\n",
    "    if s[i:i+len(s1)] == s1:\n",
    "        occur.append(i)\n",
    "print(occur)"
   ]
  },
  {
   "cell_type": "code",
   "execution_count": 4,
   "id": "0e8023b7-11cf-4084-bc3e-5dccbe04eb90",
   "metadata": {},
   "outputs": [
    {
     "name": "stdin",
     "output_type": "stream",
     "text": [
      "Enter a string:  aabbbccccddd\n"
     ]
    },
    {
     "name": "stdout",
     "output_type": "stream",
     "text": [
      "a2b3c4d3\n"
     ]
    }
   ],
   "source": [
    "#6 Write a code to perform basic string compression using the counts of repeated characters.\n",
    "s = input(\"Enter a string: \")\n",
    "compressed = \"\"\n",
    "i = 0\n",
    "while i < len(s):\n",
    "    char = s[i]\n",
    "    count = 1\n",
    "    while i + 1 < len(s) and s[i] == s[i + 1]:\n",
    "        count += 1\n",
    "        i += 1\n",
    "    compressed += char + str(count)\n",
    "    i += 1\n",
    "print(compressed)"
   ]
  },
  {
   "cell_type": "code",
   "execution_count": 27,
   "id": "99b70698-d71d-45a9-a4d5-64a5b0f40413",
   "metadata": {},
   "outputs": [
    {
     "name": "stdin",
     "output_type": "stream",
     "text": [
      "enter a string: hello\n"
     ]
    },
    {
     "name": "stdout",
     "output_type": "stream",
     "text": [
      "{'o', 'e', 'l', 'h'}\n"
     ]
    }
   ],
   "source": [
    "#7 Write a code to determine if a string has all unique characters.\n",
    "s=input(\"enter a string:\")\n",
    "unique=set(s)\n",
    "print(unique)"
   ]
  },
  {
   "cell_type": "code",
   "execution_count": 17,
   "id": "2a64dcd8-13cb-4926-a7ef-cf3472e30103",
   "metadata": {},
   "outputs": [
    {
     "name": "stdin",
     "output_type": "stream",
     "text": [
      "enter a string: SANSkriti\n"
     ]
    },
    {
     "data": {
      "text/plain": [
       "'SANSKRITI'"
      ]
     },
     "execution_count": 17,
     "metadata": {},
     "output_type": "execute_result"
    }
   ],
   "source": [
    "#8 Write a code to convert a given string to uppercase or lowercase.\n",
    "s=input(\"enter a string:\")\n",
    "s.upper()"
   ]
  },
  {
   "cell_type": "code",
   "execution_count": 18,
   "id": "41716287-f11c-4e13-8b4b-488cbdfc3c33",
   "metadata": {},
   "outputs": [
    {
     "data": {
      "text/plain": [
       "'sanskriti'"
      ]
     },
     "execution_count": 18,
     "metadata": {},
     "output_type": "execute_result"
    }
   ],
   "source": [
    "s.lower()"
   ]
  },
  {
   "cell_type": "code",
   "execution_count": 16,
   "id": "53c09edb-1625-41d5-83a8-6cdb0d62a368",
   "metadata": {},
   "outputs": [
    {
     "name": "stdin",
     "output_type": "stream",
     "text": [
      "enter a string: pwskills\n"
     ]
    },
    {
     "name": "stdout",
     "output_type": "stream",
     "text": [
      "8\n"
     ]
    }
   ],
   "source": [
    "#9 Write a code to count the number of words in a string.\n",
    "s=input(\"enter a string:\")\n",
    "count=0\n",
    "for words in s:\n",
    "    count+=1\n",
    "print(count)"
   ]
  },
  {
   "cell_type": "code",
   "execution_count": 19,
   "id": "6be96eab-b9af-412d-aec1-3b1b7e7ceddb",
   "metadata": {},
   "outputs": [
    {
     "name": "stdout",
     "output_type": "stream",
     "text": [
      "helloworld\n"
     ]
    }
   ],
   "source": [
    "#10 Write a code to concatenate two strings without using the + operator.\n",
    "s1=\"hello\"\n",
    "s2=\"world\"\n",
    "concatenate=\"\".join([s1+s2])\n",
    "print(concatenate)"
   ]
  },
  {
   "cell_type": "code",
   "execution_count": 22,
   "id": "a84e959b-6053-4cbe-82d8-937adb99ce60",
   "metadata": {},
   "outputs": [
    {
     "name": "stdin",
     "output_type": "stream",
     "text": [
      " [5,8,9,5,5,1,2,3]\n",
      "Enter the element to remove:  5\n"
     ]
    },
    {
     "name": "stdout",
     "output_type": "stream",
     "text": [
      "['8', '9', '1', '2', '3']\n"
     ]
    }
   ],
   "source": [
    "#11 Write a code to remove all occurrences of a specific element from a list.\n",
    "l1= input().strip('[]').split(',')\n",
    "l = [x.strip() for x in l1]\n",
    "remove = input(\"Enter the element to remove: \")\n",
    "l = [x for x in l if x !=remove]\n",
    "print(l)"
   ]
  },
  {
   "cell_type": "code",
   "execution_count": 23,
   "id": "1becfae1-d116-44b5-a41c-8c66c692127a",
   "metadata": {},
   "outputs": [
    {
     "name": "stdin",
     "output_type": "stream",
     "text": [
      " [7,8,9,1,2]\n"
     ]
    },
    {
     "name": "stdout",
     "output_type": "stream",
     "text": [
      "8\n"
     ]
    }
   ],
   "source": [
    "#12 Implement a code to find the second largest number in a given list of integers.\n",
    "l1= input().strip('[]').split(',')\n",
    "l = [int(x.strip()) for x in l1]\n",
    "sorted_list = sorted(l)\n",
    "second_largest = sorted_list[-2]\n",
    "print(second_largest)"
   ]
  },
  {
   "cell_type": "code",
   "execution_count": 6,
   "id": "3fd539c5-45b5-4cc7-8d9e-76da4edfff56",
   "metadata": {},
   "outputs": [
    {
     "name": "stdin",
     "output_type": "stream",
     "text": [
      "enter elements: aabbbccd\n"
     ]
    },
    {
     "name": "stdout",
     "output_type": "stream",
     "text": [
      "{'a': 2, 'b': 3, 'c': 2, 'd': 1}\n"
     ]
    }
   ],
   "source": [
    "#13 Create a code to count the occurrences of each element in a list and return a dictionary with elements as keys and their counts as values.\n",
    "l1=input(\"enter elements:\").strip('[]')\n",
    "dict={}\n",
    "for i in l1:\n",
    "    i=i.strip()\n",
    "    if i in dict:\n",
    "        dict[i]+=1\n",
    "    else:\n",
    "        dict[i]=1\n",
    "print(dict)\n"
   ]
  },
  {
   "cell_type": "code",
   "execution_count": 20,
   "id": "a14c1335-b848-4a3f-ad9d-8d685ec2b4ac",
   "metadata": {},
   "outputs": [
    {
     "name": "stdin",
     "output_type": "stream",
     "text": [
      " [1,2,3,4,5,6]\n"
     ]
    },
    {
     "name": "stdout",
     "output_type": "stream",
     "text": [
      "[6, 5, 4, 3, 2, 1]\n"
     ]
    }
   ],
   "source": [
    "#14 Write a code to reverse a list in-place without using any built-in reverse fn.\n",
    "l1=input().strip('[]').split(',')\n",
    "l=[int(x) for x in l1]\n",
    "n=len(l)\n",
    "for i in range(n // 2):\n",
    "    l[i], l[n - i - 1] = l[n - i - 1], l[i]\n",
    "print(l)"
   ]
  },
  {
   "cell_type": "code",
   "execution_count": 35,
   "id": "c031642a-2d4b-4e2e-a90a-579b9c68421c",
   "metadata": {},
   "outputs": [
    {
     "name": "stdin",
     "output_type": "stream",
     "text": [
      "enter the list: [1, 2, 3, 4, 2, 1, 5, 6, 3]\n"
     ]
    },
    {
     "name": "stdout",
     "output_type": "stream",
     "text": [
      "['1', '2', '3', '4', '5', '6']\n"
     ]
    }
   ],
   "source": [
    "#15 Implement a code to find and remove duplicates from a list while preserving the original order of elements\n",
    "l1=input(\"enter the list:\").split(',')\n",
    "#l=[x.strip() for x in l1]\n",
    "seen = {}\n",
    "unique_list = []\n",
    "for item in l1:\n",
    "    if item.strip() not in seen:\n",
    "        seen[item.strip()] = True\n",
    "        unique_list.append(item.strip())\n",
    "print(unique_list)"
   ]
  },
  {
   "cell_type": "code",
   "execution_count": 7,
   "id": "f2e704ca-dea9-4bd1-a360-99ee00c61b71",
   "metadata": {},
   "outputs": [
    {
     "name": "stdin",
     "output_type": "stream",
     "text": [
      " [3,2,5,7,1]\n"
     ]
    },
    {
     "name": "stdout",
     "output_type": "stream",
     "text": [
      "['1', '2', '3', '5', '7']\n"
     ]
    }
   ],
   "source": [
    "#16 Create a code to check if a given list is sorted or not.\n",
    "lis1=input().strip('[]').split(',')\n",
    "#lis1=[int(x) for x in lis1]\n",
    "lis1.sort()\n",
    "print(lis1)"
   ]
  },
  {
   "cell_type": "code",
   "execution_count": 8,
   "id": "10484984-f0d7-4f8a-8271-348912d123b9",
   "metadata": {},
   "outputs": [
    {
     "name": "stdin",
     "output_type": "stream",
     "text": [
      " [5,2,6,1]\n",
      " [3,7,9,4]\n"
     ]
    },
    {
     "name": "stdout",
     "output_type": "stream",
     "text": [
      "['1', '2', '3', '4', '5', '6', '7', '9']\n"
     ]
    }
   ],
   "source": [
    "#17 Write a code to merge two sorted lists into a single sorted list.\n",
    "lis1=input().strip('[]').split(',')\n",
    "#lis1=[int(x) for x in lis1]\n",
    "lis1.sort()\n",
    "lis2=input().strip('[]').split(',')\n",
    "#lis2=[int(x) for x in lis2]\n",
    "lis2.sort()\n",
    "merge=sorted(lis1+lis2)\n",
    "print(merge)"
   ]
  },
  {
   "cell_type": "code",
   "execution_count": 3,
   "id": "4b08dccd-b9d9-4373-94d1-9b519a0c5d5a",
   "metadata": {},
   "outputs": [
    {
     "name": "stdin",
     "output_type": "stream",
     "text": [
      "Enter first list:  [8,2,4,5,6]\n",
      "Enter second list:  [1,8,4,2,9,8]\n"
     ]
    },
    {
     "name": "stdout",
     "output_type": "stream",
     "text": [
      "[8, 2, 4]\n"
     ]
    }
   ],
   "source": [
    "#18 Implement a code to find the intersection of two given list.\n",
    "lis1 = input(\"Enter first list: \").strip('[]').split(',')\n",
    "lis1 = [int(x) for x in lis1]\n",
    "lis2 = input(\"Enter second list: \").strip('[]').split(',')\n",
    "lis2 = [int(x) for x in lis2]\n",
    "set1 = set(lis1)\n",
    "set2 = set(lis2)\n",
    "inter_res = set1 & set2\n",
    "print(list(inter_res))"
   ]
  },
  {
   "cell_type": "code",
   "execution_count": 4,
   "id": "3cc8c6b7-749d-4855-9fb3-5163f48b40b1",
   "metadata": {},
   "outputs": [
    {
     "name": "stdin",
     "output_type": "stream",
     "text": [
      "Enter first list:  [8,2,4,5,6]\n",
      "Enter second list:  [1,8,4,2,9,8]\n"
     ]
    },
    {
     "name": "stdout",
     "output_type": "stream",
     "text": [
      "[1, 2, 4, 5, 6, 8, 9]\n"
     ]
    }
   ],
   "source": [
    "#19 Create a code to find the union of two lists without duplicates.\n",
    "lis1 = input(\"Enter first list: \").strip('[]').split(',')\n",
    "lis1 = [int(x) for x in lis1]\n",
    "lis2 = input(\"Enter second list: \").strip('[]').split(',')\n",
    "lis2 = [int(x) for x in lis2]\n",
    "set1 = set(lis1)\n",
    "set2 = set(lis2)\n",
    "inter_res = set1 | set2\n",
    "print(list(inter_res))"
   ]
  },
  {
   "cell_type": "code",
   "execution_count": null,
   "id": "39cb4fa4-c01b-4ea7-8cbb-883ff443ade5",
   "metadata": {},
   "outputs": [],
   "source": [
    "#20 Write a code to shuffle a given list randomly without using any built-in shuffle fn."
   ]
  },
  {
   "cell_type": "code",
   "execution_count": 1,
   "id": "3f3d23cf-5991-4663-b247-a4b3ce633f83",
   "metadata": {},
   "outputs": [
    {
     "name": "stdin",
     "output_type": "stream",
     "text": [
      "Enter elements: (3,4,5,7,8)\n",
      "Enter elements: (1,2,3,4,7)\n"
     ]
    },
    {
     "name": "stdout",
     "output_type": "stream",
     "text": [
      "{'3', '4', '7'}\n"
     ]
    }
   ],
   "source": [
    "#21 write a code that takes two tuples as input and returns a new tuple containing elements that are common to both input tuples\n",
    "tup1=tuple(input(\"Enter elements:\").strip('()').split(','))\n",
    "tup2 = tuple(input(\"Enter elements:\").strip('()').split(','))\n",
    "t1=set(tup1)\n",
    "t2=set(tup2)\n",
    "tcommon=t1 & t2\n",
    "print(tcommon)"
   ]
  },
  {
   "cell_type": "code",
   "execution_count": 14,
   "id": "4b1ba567-5f57-412f-be2b-935e86a166fe",
   "metadata": {},
   "outputs": [
    {
     "name": "stdin",
     "output_type": "stream",
     "text": [
      "enter elements: 2,3,4,5\n",
      "enter elements: 4,5,6,8\n"
     ]
    },
    {
     "name": "stdout",
     "output_type": "stream",
     "text": [
      "{4, 5}\n"
     ]
    }
   ],
   "source": [
    "#22 create a code that prompts the user to enter two sets of integers seperated by commas.Then,print the intersection of the two sets.\n",
    "a=input(\"enter elements:\")\n",
    "b=input(\"enter elements:\")\n",
    "s1=set(map(int,a.split(',')))\n",
    "s2=set(map(int,b.split(',')))\n",
    "inter=s1 & s2\n",
    "print(inter)"
   ]
  },
  {
   "cell_type": "code",
   "execution_count": 15,
   "id": "6eb5fd6d-d1f5-4973-a870-2e969ecaf685",
   "metadata": {},
   "outputs": [
    {
     "name": "stdin",
     "output_type": "stream",
     "text": [
      "enter tup1: 1,2,3\n",
      "enter tup2: 4,5,6\n"
     ]
    },
    {
     "name": "stdout",
     "output_type": "stream",
     "text": [
      "(1, 2, 3, 4, 5, 6)\n"
     ]
    }
   ],
   "source": [
    "#23 write a code to concatenate two tuples.The function should take two tuples.The function should take two tuples as input and return a new tuple containing elements from both input tuples.\n",
    "tup1=input(\"enter tup1:\")\n",
    "tup2=input(\"enter tup2:\")\n",
    "t1=tuple(map(int,tup1.split(',')))\n",
    "t2=tuple(map(int,tup2.split(',')))\n",
    "conc=t1+t2\n",
    "print(conc)"
   ]
  },
  {
   "cell_type": "code",
   "execution_count": 16,
   "id": "f10123e5-a6a7-42c8-9b7f-1e9acc1becd3",
   "metadata": {},
   "outputs": [
    {
     "name": "stdin",
     "output_type": "stream",
     "text": [
      "enter set1: 5,6,7,8\n",
      "enter set2: 6,3,7,2,1\n"
     ]
    },
    {
     "name": "stdout",
     "output_type": "stream",
     "text": [
      "{'5', '8'}\n"
     ]
    }
   ],
   "source": [
    "#24 develop a code that prompts the user to input two sets of strings.Then,print the elements that are present in the first set but not in the second set.\n",
    "set1=input(\"enter set1:\")\n",
    "set2=input(\"enter set2:\")\n",
    "s1=set(set1.split(','))\n",
    "s2=set(set2.split(','))\n",
    "diff=s1-s2\n",
    "print(diff)"
   ]
  },
  {
   "cell_type": "code",
   "execution_count": 18,
   "id": "a68711b2-3d06-4aa1-ba75-703ffbf27c70",
   "metadata": {},
   "outputs": [
    {
     "name": "stdin",
     "output_type": "stream",
     "text": [
      "Enter elements: 1,2,3,4,5,6,7,8,9\n",
      "Enter elements: 2\n",
      "Enter elements: 7\n"
     ]
    },
    {
     "name": "stdout",
     "output_type": "stream",
     "text": [
      "('3', '4', '5', '6', '7')\n"
     ]
    }
   ],
   "source": [
    "#25 Create a code that takes a tuple and two integers as input.The function should return a new tuple containing elements from the original tuple within the specified range of indices.\n",
    "tup=tuple(input(\"Enter elements:\").split(','))\n",
    "start= int(input(\"Enter elements:\"))\n",
    "end= int(input(\"Enter elements:\"))\n",
    "tup1= tup[start:end]\n",
    "print(tup1)"
   ]
  },
  {
   "cell_type": "code",
   "execution_count": 19,
   "id": "f2f44a02-431d-4817-b7d2-2fbe9b7336c4",
   "metadata": {},
   "outputs": [
    {
     "name": "stdin",
     "output_type": "stream",
     "text": [
      "enter set1: a,b,c,d\n",
      "enter set2: e,f,g,h\n"
     ]
    },
    {
     "name": "stdout",
     "output_type": "stream",
     "text": [
      "{'a', 'g', 'h', 'f', 'c', 'e', 'b', 'd'}\n"
     ]
    }
   ],
   "source": [
    "#26 write a code that prompts the user to input two sets of characters then print the union of those two sets.\n",
    "set1=input(\"enter set1:\")\n",
    "set2=input(\"enter set2:\")\n",
    "s1=set(set1.split(','))\n",
    "s2=set(set2.split(','))\n",
    "uni=s1 | s2\n",
    "print(uni)"
   ]
  },
  {
   "cell_type": "code",
   "execution_count": 21,
   "id": "72a53bee-ca4a-420a-9150-f5768b93d78b",
   "metadata": {},
   "outputs": [
    {
     "name": "stdin",
     "output_type": "stream",
     "text": [
      "enter elements: 23,4,1,55,90\n"
     ]
    },
    {
     "name": "stdout",
     "output_type": "stream",
     "text": [
      "90\n",
      "1\n"
     ]
    }
   ],
   "source": [
    "#27 develop a code that takes a tuple of integers as input the function should return the maximin and minimum values from the tuple using tuple unpacking.\n",
    "t1=input(\"enter elements:\")\n",
    "tup=tuple(map(int,t1.split(',')))\n",
    "max_value= max(tup)\n",
    "min_value= min(tup)\n",
    "print(max_value)\n",
    "print(min_value)"
   ]
  },
  {
   "cell_type": "code",
   "execution_count": 10,
   "id": "0a14a559-1352-40e7-b76a-1a6b00bd12ca",
   "metadata": {},
   "outputs": [
    {
     "name": "stdin",
     "output_type": "stream",
     "text": [
      "Enter elements: 3,4,2,1\n",
      "Enter elements: 4,6,7,2\n"
     ]
    },
    {
     "name": "stdout",
     "output_type": "stream",
     "text": [
      "{1, 2, 3, 4, 6, 7}\n",
      "{2, 4}\n",
      "{1, 3}\n"
     ]
    }
   ],
   "source": [
    "#28 create a code that defines two sets of integer then print the union,intersection,and differences.\n",
    "s1= input(\"Enter elements:\")\n",
    "s2= input(\"Enter elements:\")\n",
    "a= set(map(int, s1.split(',')))\n",
    "b= set(map(int, s2.split(',')))\n",
    "uni= a | b\n",
    "inter= a & b\n",
    "diff= a-b\n",
    "print(uni)\n",
    "print(inter)\n",
    "print(diff)"
   ]
  },
  {
   "cell_type": "code",
   "execution_count": 23,
   "id": "b01944b5-9fbb-463d-a240-b9980990acf7",
   "metadata": {},
   "outputs": [
    {
     "name": "stdin",
     "output_type": "stream",
     "text": [
      "Enter elements: 1,2,3,4,5,2,3,2\n",
      "Enter the element: 2\n"
     ]
    },
    {
     "name": "stdout",
     "output_type": "stream",
     "text": [
      "3\n"
     ]
    }
   ],
   "source": [
    "#29 write a code that takes a tuple and an element as input the function should return the count of occurrences of the given element in the tuple \n",
    "tup1= tuple(input(\"Enter elements:\").split(','))\n",
    "occur= input(\"Enter the element:\")\n",
    "occurrence= tup1.count(occur)\n",
    "print(occurrence)"
   ]
  },
  {
   "cell_type": "code",
   "execution_count": 25,
   "id": "b7d43b7d-9b2b-4ab9-8a54-315f6843a02b",
   "metadata": {},
   "outputs": [
    {
     "name": "stdin",
     "output_type": "stream",
     "text": [
      "enter set1: 1,2,3,4\n",
      "enter set2: 3,4,5,6\n"
     ]
    },
    {
     "name": "stdout",
     "output_type": "stream",
     "text": [
      "{'6', '5', '1', '2'}\n"
     ]
    }
   ],
   "source": [
    "#30 Develop a code that prompts the user to input two sets of strings Then print the symmetric difference of these two sets\n",
    "set1=input(\"enter set1:\")\n",
    "set2=input(\"enter set2:\")\n",
    "s1=set(set1.split(','))\n",
    "s2=set(set2.split(','))\n",
    "symmetric_diff = s1^ s2\n",
    "print(symmetric_diff)"
   ]
  },
  {
   "cell_type": "code",
   "execution_count": 29,
   "id": "d9791873-e6b5-4bea-a217-206b8339274a",
   "metadata": {},
   "outputs": [
    {
     "name": "stdin",
     "output_type": "stream",
     "text": [
      "Enter a list:  hello,python,hello,world\n"
     ]
    },
    {
     "name": "stdout",
     "output_type": "stream",
     "text": [
      "{'hello': 2, 'python': 1, 'world': 1}\n"
     ]
    }
   ],
   "source": [
    "#31 Write a code that takes a list of words as input and returns a dictionary where the keys are unique words and the values are the frequencies of those words in the input list\n",
    "words = input(\"Enter a list: \")\n",
    "list1 = words.split(',')  \n",
    "word_count = {}\n",
    "for word in list1:\n",
    "    if word in word_count:\n",
    "        word_count[word] += 1\n",
    "    else:\n",
    "        word_count[word] = 1\n",
    "print(word_count)"
   ]
  },
  {
   "cell_type": "code",
   "execution_count": 2,
   "id": "639378f0-832e-462f-a228-68e166bfb1f6",
   "metadata": {},
   "outputs": [
    {
     "name": "stdout",
     "output_type": "stream",
     "text": [
      "{'a': 10, 'b': 50, 'c': 70, 'd': 50}\n"
     ]
    }
   ],
   "source": [
    "#32 Write a code that takes two dictionaries as input and merges them into a single dictionary.If there are common keys the values should be added together\n",
    "dict1 = {'a': 10, 'b': 20, 'c': 30}\n",
    "dict2 = {'b': 30, 'c': 40, 'd': 50}\n",
    "merge = dict(dict1)\n",
    "for key, value in dict2.items():\n",
    "    if key in merge:\n",
    "        merge[key] += value\n",
    "    else:\n",
    "        merge[key] = value\n",
    "print(merge)"
   ]
  },
  {
   "cell_type": "code",
   "execution_count": null,
   "id": "297afe2a-01ae-4ade-88cb-ff04a322992f",
   "metadata": {},
   "outputs": [],
   "source": [
    "#33 Write a code to access a value in a nested dictionary. The function should take the dictionary and a list of keys as input and return the corresponding value. If any of the keys do not exist in the dictionary the function should return None"
   ]
  },
  {
   "cell_type": "code",
   "execution_count": null,
   "id": "55c22b3e-6d8a-4587-9535-dfbd730f7ee2",
   "metadata": {},
   "outputs": [],
   "source": [
    "#34 Write a code that takes a dictionary as input and returns a sorted version of it based on the values.You can choose whether to sort in ascending or descending order"
   ]
  },
  {
   "cell_type": "code",
   "execution_count": null,
   "id": "0550c867-b758-454f-996c-42593a059744",
   "metadata": {},
   "outputs": [],
   "source": [
    "#35 Write a code that inverts a dictionary swapping keys and values.Ensure that the inveted dictionary correctly handles cases where multiple keys have the same value be storing the keys as a list in the inverted dictionary."
   ]
  }
 ],
 "metadata": {
  "kernelspec": {
   "display_name": "Python 3 (ipykernel)",
   "language": "python",
   "name": "python3"
  },
  "language_info": {
   "codemirror_mode": {
    "name": "ipython",
    "version": 3
   },
   "file_extension": ".py",
   "mimetype": "text/x-python",
   "name": "python",
   "nbconvert_exporter": "python",
   "pygments_lexer": "ipython3",
   "version": "3.10.8"
  }
 },
 "nbformat": 4,
 "nbformat_minor": 5
}
