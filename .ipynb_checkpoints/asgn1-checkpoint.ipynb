{
 "cells": [
  {
   "cell_type": "code",
   "execution_count": 1,
   "id": "2f05dc5e-51af-4c61-bd34-988506b5f271",
   "metadata": {},
   "outputs": [
    {
     "data": {
      "text/plain": [
       "'dlrow olleh'"
      ]
     },
     "execution_count": 1,
     "metadata": {},
     "output_type": "execute_result"
    }
   ],
   "source": [
    "#1 write a code to reverse the sring\n",
    "s=\"hello world\"\n",
    "s[::-1]"
   ]
  },
  {
   "cell_type": "code",
   "execution_count": 15,
   "id": "3693b56a-d9ef-41d4-97df-2a3ca9e2d515",
   "metadata": {},
   "outputs": [
    {
     "name": "stdin",
     "output_type": "stream",
     "text": [
      "enter a string pwskills\n"
     ]
    },
    {
     "name": "stdout",
     "output_type": "stream",
     "text": [
      "1\n"
     ]
    }
   ],
   "source": [
    "#2 Write a code to count the number of vowels in a string.\n",
    "s=input(\"enter a string:\")\n",
    "count=0\n",
    "for char in s:\n",
    "    if char in \"aeiouAEIOU\":\n",
    "        count=count+1\n",
    "print(count) "
   ]
  },
  {
   "cell_type": "code",
   "execution_count": 14,
   "id": "7e9c07bf-b62a-4274-8269-9a55b95eeea3",
   "metadata": {},
   "outputs": [
    {
     "name": "stdin",
     "output_type": "stream",
     "text": [
      "enter a string abba\n"
     ]
    },
    {
     "name": "stdout",
     "output_type": "stream",
     "text": [
      "palindrome\n"
     ]
    }
   ],
   "source": [
    "#3 Write a code to check if a given string is a palindrome or not.\n",
    "p=input(\"enter a string:\")\n",
    "if p[::-1]==p:\n",
    "    print(\"palindrome\")\n",
    "else:\n",
    "    print(\"not palindrome\")"
   ]
  },
  {
   "cell_type": "code",
   "execution_count": 27,
   "id": "a6ac2cbd-d085-4344-b7bf-dee97a2b491d",
   "metadata": {},
   "outputs": [
    {
     "name": "stdin",
     "output_type": "stream",
     "text": [
      "Enter the first string:  sans123\n",
      "Enter the second string:  s123ans\n"
     ]
    },
    {
     "name": "stdout",
     "output_type": "stream",
     "text": [
      "The strings are anagrams\n"
     ]
    }
   ],
   "source": [
    "#4 Write a code to check if two given strings are anagrams of each other.\n",
    "str1 = input(\"Enter the first string: \")\n",
    "str2 = input(\"Enter the second string: \")\n",
    "str1 = ''.join(char.lower() for char in str1 if char.isalnum())\n",
    "str2 = ''.join(char.lower() for char in str2 if char.isalnum())\n",
    "sorted_str1 = sorted(str1)\n",
    "sorted_str2 = sorted(str2)\n",
    "if sorted_str1 == sorted_str2:\n",
    "    print(\"The strings are anagrams\")\n",
    "else:\n",
    "    print(\"The strings are not anagrams\")"
   ]
  },
  {
   "cell_type": "code",
   "execution_count": 32,
   "id": "003d33d0-b661-4335-8bab-15053feea608",
   "metadata": {},
   "outputs": [
    {
     "name": "stdout",
     "output_type": "stream",
     "text": [
      "[0, 12]\n"
     ]
    }
   ],
   "source": [
    "#5 Write a code to find all the occurences of a given substring with another string.\n",
    "s=\"hello world hello\"\n",
    "s1=\"hello\"\n",
    "occur = []\n",
    "for i in range(len(s)):\n",
    "    if s[i:i+len(s1)] == s1:\n",
    "        occur.append(i)\n",
    "print(occur)"
   ]
  },
  {
   "cell_type": "code",
   "execution_count": null,
   "id": "0e8023b7-11cf-4084-bc3e-5dccbe04eb90",
   "metadata": {},
   "outputs": [],
   "source": [
    "#6 Write a code to perform basic string compression using the counts of repeated characters.\n"
   ]
  },
  {
   "cell_type": "code",
   "execution_count": 27,
   "id": "99b70698-d71d-45a9-a4d5-64a5b0f40413",
   "metadata": {},
   "outputs": [
    {
     "name": "stdin",
     "output_type": "stream",
     "text": [
      "enter a string: hello\n"
     ]
    },
    {
     "name": "stdout",
     "output_type": "stream",
     "text": [
      "{'o', 'e', 'l', 'h'}\n"
     ]
    }
   ],
   "source": [
    "#7 Write a code to determine if a string has all unique characters.\n",
    "s=input(\"enter a string:\")\n",
    "unique=set(s)\n",
    "print(unique)"
   ]
  },
  {
   "cell_type": "code",
   "execution_count": 17,
   "id": "2a64dcd8-13cb-4926-a7ef-cf3472e30103",
   "metadata": {},
   "outputs": [
    {
     "name": "stdin",
     "output_type": "stream",
     "text": [
      "enter a string: SANSkriti\n"
     ]
    },
    {
     "data": {
      "text/plain": [
       "'SANSKRITI'"
      ]
     },
     "execution_count": 17,
     "metadata": {},
     "output_type": "execute_result"
    }
   ],
   "source": [
    "#8 Write a code to convert a given string to uppercase or lowercase.\n",
    "s=input(\"enter a string:\")\n",
    "s.upper()"
   ]
  },
  {
   "cell_type": "code",
   "execution_count": 18,
   "id": "41716287-f11c-4e13-8b4b-488cbdfc3c33",
   "metadata": {},
   "outputs": [
    {
     "data": {
      "text/plain": [
       "'sanskriti'"
      ]
     },
     "execution_count": 18,
     "metadata": {},
     "output_type": "execute_result"
    }
   ],
   "source": [
    "s.lower()"
   ]
  },
  {
   "cell_type": "code",
   "execution_count": 16,
   "id": "53c09edb-1625-41d5-83a8-6cdb0d62a368",
   "metadata": {},
   "outputs": [
    {
     "name": "stdin",
     "output_type": "stream",
     "text": [
      "enter a string: pwskills\n"
     ]
    },
    {
     "name": "stdout",
     "output_type": "stream",
     "text": [
      "8\n"
     ]
    }
   ],
   "source": [
    "#9 Write a code to count the number of words in a string.\n",
    "s=input(\"enter a string:\")\n",
    "count=0\n",
    "for words in s:\n",
    "    count+=1\n",
    "print(count)"
   ]
  },
  {
   "cell_type": "code",
   "execution_count": 19,
   "id": "6be96eab-b9af-412d-aec1-3b1b7e7ceddb",
   "metadata": {},
   "outputs": [
    {
     "name": "stdout",
     "output_type": "stream",
     "text": [
      "helloworld\n"
     ]
    }
   ],
   "source": [
    "#10 Write a code to concatenate two strings without using the + operator.\n",
    "s1=\"hello\"\n",
    "s2=\"world\"\n",
    "concatenate=\"\".join([s1+s2])\n",
    "print(concatenate)"
   ]
  },
  {
   "cell_type": "code",
   "execution_count": 22,
   "id": "a84e959b-6053-4cbe-82d8-937adb99ce60",
   "metadata": {},
   "outputs": [
    {
     "name": "stdin",
     "output_type": "stream",
     "text": [
      " [5,8,9,5,5,1,2,3]\n",
      "Enter the element to remove:  5\n"
     ]
    },
    {
     "name": "stdout",
     "output_type": "stream",
     "text": [
      "['8', '9', '1', '2', '3']\n"
     ]
    }
   ],
   "source": [
    "#11 Write a code to remove all occurrences of a specific element from a list.\n",
    "l1= input().strip('[]').split(',')\n",
    "l = [x.strip() for x in l1]\n",
    "remove = input(\"Enter the element to remove: \")\n",
    "l = [x for x in l if x !=remove]\n",
    "print(l)"
   ]
  },
  {
   "cell_type": "code",
   "execution_count": 23,
   "id": "1becfae1-d116-44b5-a41c-8c66c692127a",
   "metadata": {},
   "outputs": [
    {
     "name": "stdin",
     "output_type": "stream",
     "text": [
      " [7,8,9,1,2]\n"
     ]
    },
    {
     "name": "stdout",
     "output_type": "stream",
     "text": [
      "8\n"
     ]
    }
   ],
   "source": [
    "#12 Implement a code to find the second largest number in a given list of integers.\n",
    "l1= input().strip('[]').split(',')\n",
    "l = [int(x.strip()) for x in l1]\n",
    "sorted_list = sorted(l)\n",
    "second_largest = sorted_list[-2]\n",
    "print(second_largest)"
   ]
  },
  {
   "cell_type": "code",
   "execution_count": null,
   "id": "3fd539c5-45b5-4cc7-8d9e-76da4edfff56",
   "metadata": {},
   "outputs": [],
   "source": [
    "#13 Create a code to count the occurrences of each element in a list and return a dictionary with elements as keys and their counts as values."
   ]
  },
  {
   "cell_type": "code",
   "execution_count": 20,
   "id": "a14c1335-b848-4a3f-ad9d-8d685ec2b4ac",
   "metadata": {},
   "outputs": [
    {
     "name": "stdin",
     "output_type": "stream",
     "text": [
      " [1,2,3,4,5,6]\n"
     ]
    },
    {
     "name": "stdout",
     "output_type": "stream",
     "text": [
      "[6, 5, 4, 3, 2, 1]\n"
     ]
    }
   ],
   "source": [
    "#14 Write a code to reverse a list in-place without using any built-in reverse fn.\n",
    "l1=input().strip('[]').split(',')\n",
    "l=[int(x) for x in l1]\n",
    "n=len(l)\n",
    "for i in range(n // 2):\n",
    "    l[i], l[n - i - 1] = l[n - i - 1], l[i]\n",
    "print(l)"
   ]
  },
  {
   "cell_type": "code",
   "execution_count": 35,
   "id": "c031642a-2d4b-4e2e-a90a-579b9c68421c",
   "metadata": {},
   "outputs": [
    {
     "name": "stdin",
     "output_type": "stream",
     "text": [
      "enter the list: [1, 2, 3, 4, 2, 1, 5, 6, 3]\n"
     ]
    },
    {
     "name": "stdout",
     "output_type": "stream",
     "text": [
      "['1', '2', '3', '4', '5', '6']\n"
     ]
    }
   ],
   "source": [
    "#15 Implement a code to find and remove duplicates from a list while preserving the original order of elements\n",
    "l1=input(\"enter the list:\").split(',')\n",
    "#l=[x.strip() for x in l1]\n",
    "seen = {}\n",
    "unique_list = []\n",
    "for item in l1S:\n",
    "    if item.strip() not in seen:\n",
    "        seen[item.strip()] = True\n",
    "        unique_list.append(item.strip())\n",
    "print(unique_list)"
   ]
  },
  {
   "cell_type": "code",
   "execution_count": 16,
   "id": "f2e704ca-dea9-4bd1-a360-99ee00c61b71",
   "metadata": {},
   "outputs": [
    {
     "name": "stdin",
     "output_type": "stream",
     "text": [
      " [2,3,6,7,8]\n"
     ]
    },
    {
     "name": "stdout",
     "output_type": "stream",
     "text": [
      "[2, 3, 6, 7, 8]\n"
     ]
    }
   ],
   "source": [
    "#16 Create a code to check if a given list is sorted or not.\n",
    "lis1=input().strip('[]').split(',')\n",
    "lis1=[int(x) for x in lis1]\n",
    "lis1.sort()\n",
    "print(lis1)"
   ]
  },
  {
   "cell_type": "code",
   "execution_count": 10,
   "id": "10484984-f0d7-4f8a-8271-348912d123b9",
   "metadata": {},
   "outputs": [
    {
     "name": "stdin",
     "output_type": "stream",
     "text": [
      " [2,5,1,6]\n",
      " [7,8,4,9]\n"
     ]
    },
    {
     "name": "stdout",
     "output_type": "stream",
     "text": [
      "[1, 2, 4, 5, 6, 7, 8, 9]\n"
     ]
    }
   ],
   "source": [
    "#17 Write a code to merge two sorted lists into a single sorted list.\n",
    "lis1=input().strip('[]').split(',')\n",
    "lis1=[int(x) for x in lis1]\n",
    "lis1.sort()\n",
    "lis2=input().strip('[]').split(',')\n",
    "lis2=[int(x) for x in lis2]\n",
    "lis2.sort()\n",
    "merge=sorted(lis1+lis2)\n",
    "print(merge)"
   ]
  },
  {
   "cell_type": "code",
   "execution_count": 6,
   "id": "4b08dccd-b9d9-4373-94d1-9b519a0c5d5a",
   "metadata": {},
   "outputs": [
    {
     "name": "stdin",
     "output_type": "stream",
     "text": [
      " [8,2,4]\n",
      " [1,2,8]\n"
     ]
    },
    {
     "name": "stdout",
     "output_type": "stream",
     "text": [
      "[8, 2]\n"
     ]
    }
   ],
   "source": [
    "#18 Implement a code to find the intersection of two given list.\n",
    "lis1=input().strip('[]').split(',')\n",
    "lis1 = [int(x) for x in lis1]\n",
    "lis2=input().strip('[]').split(',')\n",
    "lis2 = [int(x) for x in lis2]\n",
    "inter_res = list(set(lis1).intersection(lis2))\n",
    "print(inter_res)"
   ]
  },
  {
   "cell_type": "code",
   "execution_count": 9,
   "id": "3cc8c6b7-749d-4855-9fb3-5163f48b40b1",
   "metadata": {},
   "outputs": [
    {
     "name": "stdin",
     "output_type": "stream",
     "text": [
      " [1,2,3]\n",
      " [4,5,6]\n"
     ]
    },
    {
     "name": "stdout",
     "output_type": "stream",
     "text": [
      "[1, 2, 3, 4, 5, 6]\n"
     ]
    }
   ],
   "source": [
    "#19 Create a code to find the union of two lists without duplicates.\n",
    "lis1=input().strip('[]').split(',')\n",
    "lis1 = [int(x) for x in lis1]\n",
    "lis2=input().strip('[]').split(',')\n",
    "lis2 = [int(x) for x in lis2]\n",
    "inter_res = list(set(lis1).union(lis2))\n",
    "print(inter_res)"
   ]
  },
  {
   "cell_type": "code",
   "execution_count": null,
   "id": "39cb4fa4-c01b-4ea7-8cbb-883ff443ade5",
   "metadata": {},
   "outputs": [],
   "source": [
    "#20 Write a code to shuffle a given list randomly without using any built-in shuffle fn."
   ]
  }
 ],
 "metadata": {
  "kernelspec": {
   "display_name": "Python 3 (ipykernel)",
   "language": "python",
   "name": "python3"
  },
  "language_info": {
   "codemirror_mode": {
    "name": "ipython",
    "version": 3
   },
   "file_extension": ".py",
   "mimetype": "text/x-python",
   "name": "python",
   "nbconvert_exporter": "python",
   "pygments_lexer": "ipython3",
   "version": "3.10.8"
  }
 },
 "nbformat": 4,
 "nbformat_minor": 5
}
